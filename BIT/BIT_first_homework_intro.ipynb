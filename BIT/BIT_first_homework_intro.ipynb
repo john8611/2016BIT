{
 "cells": [
  {
   "cell_type": "markdown",
   "metadata": {},
   "source": [
    "# BIT homework\n",
    "\n",
    "\n",
    "### GFF/GTF File Format - Definition and supported options \n",
    "The GFF (General Feature Format) format consists of one line per feature, each containing 9 columns of data, plus optional track definition lines. The following documentation is based on theVersion 2 specifications.\n",
    "\n",
    "The GTF (General Transfer Format) is identical to GFF version 2.\n",
    "- Fields\n",
    "- Track lines\n",
    "- More information -- (http://asia.ensembl.org/info/website/upload/gff.html?redirect=no#moreinfo)\n",
    "\n",
    "\n",
    "## R Quiz\n",
    "\n",
    "- Visit “www.ensembl.org”; download the human GTF file of the latest release \n",
    "    - a .Downloading program: wget or curl\n",
    "    - b. Target file: Homo_sapiens.GRCh38.83.chr_patch_hapl_scaff.gtf.gz\n",
    "    - c. Uncompress: gunzip\n",
    "\n",
    "- Read in the GTF file into an R session\n",
    "    - read.table arguments\n",
    "    - file\n",
    "    - sep\n",
    "    - comment\n",
    "    - quote\n",
    "- Tabulate the number of genes per chromosome\n",
    "    - table for a two-way counting (chromosome by feature)\n",
    "- Assess the average number of transcripts per gene\n",
    "- Restrict these countings to ‘protein-coding’ genes\n",
    "    - grep for record searching\n",
    "\n"
   ]
  },
  {
   "cell_type": "code",
   "execution_count": 1,
   "metadata": {
    "collapsed": false
   },
   "outputs": [
    {
     "name": "stdout",
     "output_type": "stream",
     "text": [
      "--2016-03-10 10:28:10--  http://ftp.ensembl.org/pub/current_gtf/homo_sapiens/Homo_sapiens.GRCh38.84.chr_patch_hapl_scaff.gtf.gz\n",
      "Resolving ftp.ensembl.org (ftp.ensembl.org)... 193.62.203.85\n",
      "Connecting to ftp.ensembl.org (ftp.ensembl.org)|193.62.203.85|:80... connected.\n",
      "HTTP request sent, awaiting response... 200 OK\n",
      "Length: 49487779 (47M) [application/x-gzip]\n",
      "Saving to: ‘Homo_sapiens.GRCh38.84.chr_patch_hapl_scaff.gtf.gz’\n",
      "\n",
      "100%[======================================>] 49,487,779  5.49MB/s   in 22s    \n",
      "\n",
      "2016-03-10 10:28:33 (2.11 MB/s) - ‘Homo_sapiens.GRCh38.84.chr_patch_hapl_scaff.gtf.gz’ saved [49487779/49487779]\n",
      "\n"
     ]
    }
   ],
   "source": [
    "!wget http://ftp.ensembl.org/pub/current_gtf/homo_sapiens/Homo_sapiens.GRCh38.84.chr_patch_hapl_scaff.gtf.gz"
   ]
  },
  {
   "cell_type": "code",
   "execution_count": null,
   "metadata": {
    "collapsed": false
   },
   "outputs": [
    {
     "name": "stdout",
     "output_type": "stream",
     "text": [
      "gzip: Homo_sapiens.GRCh38.84.chr_patch_hapl_scaff.gtf.gz: No such file or directory\n",
      "Homo_sapiens.GRCh38.84.chr_patch_hapl_scaff.gtf  Untitled1.ipynb\n",
      "Untitled.ipynb\t\t\t\t\t test.gtf\n",
      "#!genome-build GRCh38.p5\n",
      "#!genome-version GRCh38\n",
      "#!genome-date 2013-12\n",
      "#!genome-build-accession NCBI:GCA_000001405.20\n",
      "#!genebuild-last-updated 2015-10\n",
      "1\thavana\tgene\t11869\t14409\t.\t+\t.\tgene_id \"ENSG000\n",
      "00223972\"; gene_version \"5\"; gene_name \"DDX11L1\"; gene_source \"havana\"; gene_bio\n",
      "type \"transcribed_unprocessed_pseudogene\"; havana_gene \"OTTHUMG00000000961\"; hav\n",
      "ana_gene_version \"2\";\n",
      "1\thavana\ttranscript\t11869\t14409\t.\t+\t.\tgene_id \n",
      "\"ENSG00000223972\"; gene_version \"5\"; transcript_id \"ENST00000456328\"; transcript\n",
      "_version \"2\"; gene_name \"DDX11L1\"; gene_source \"havana\"; gene_biotype \"transcrib\n",
      "ed_unprocessed_pseudogene\"; havana_gene \"OTTHUMG00000000961\"; havana_gene_versio\n",
      "n \"2\"; transcript_name \"DDX11L1-002\"; transcript_source \"havana\"; transcript_bio\n",
      "type \"processed_transcript\"; havana_transcript \"OTTHUMT00000362751\"; havana_tran\n",
      "script_version \"1\"; tag \"basic\"; transcript_support_level \"1\";\n",
      "1\thavana\texon\t11869\t12227\t.\t+\t.\tgene_id \"ENSG000\n",
      "00223972\"; gene_version \"5\"; transcript_id \"ENST00000456328\"; transcript_version\n",
      " \"2\"; exon_number \"1\"; gene_name \"DDX11L1\"; gene_source \"havana\"; gene_biotype \"\n",
      "transcribed_unprocessed_pseudogene\"; havana_gene \"OTTHUMG00000000961\"; havana_ge\n",
      "ne_version \"2\"; transcript_name \"DDX11L1-002\"; transcript_source \"havana\"; trans\n",
      "cript_biotype \"processed_transcript\"; havana_transcript \"OTTHUMT00000362751\"; ha\n",
      "vana_transcript_version \"1\"; exon_id \"ENSE00002234944\"; exon_version \"1\"; tag \"b\n",
      "\u001b[7m--More--(54%)\u001b[m"
     ]
    }
   ],
   "source": [
    "!gunzip Homo_sapiens.GRCh38.84.chr_patch_hapl_scaff.gtf.gz\n",
    "!head Homo_sapiens.GRCh38.84.chr_patch_hapl_scaff.gtf > test.gtf\n",
    "!ls\n",
    "!more test.gtf"
   ]
  },
  {
   "cell_type": "markdown",
   "metadata": {},
   "source": [
    "\n",
    "## Native R kernel for Jupyter\n",
    "\n",
    "- https://github.com/IRkernel/IRkernel \n",
    "- https://www.continuum.io/blog/developer/jupyter-and-conda-r\n",
    "- http://jupyter.cs.brynmawr.edu/hub/dblank/public/Jupyter%20Notebook%20Users%20Manual.ipynb#2.2-Markdown-Cells\n",
    "- https://github.com/IRkernel/IRkernel\n",
    "\n",
    "\n",
    "\n",
    "### method\n",
    "sudo apt-get install -y libzmq3 libzmq3-dev -y\n",
    "\n",
    "R  # 시작\n",
    "\n",
    "install.packages(c('rzmq'))\n",
    "\n",
    "install.packages(c('repr', 'IRkernel', 'IRdisplay'), repos = c('http://irkernel.github.io/', getOption('repos')))\n",
    "\n",
    "IRkernel::installspec()\n",
    "\n",
    "q()  # R 종료\n",
    "\n",
    "./biopython_inotebook.sh\n",
    "\n"
   ]
  },
  {
   "cell_type": "code",
   "execution_count": null,
   "metadata": {
    "collapsed": true
   },
   "outputs": [],
   "source": [
    "# R in Jupyter is in Next Notebook"
   ]
  }
 ],
 "metadata": {
  "kernelspec": {
   "display_name": "Python 2",
   "language": "python",
   "name": "python2"
  },
  "language_info": {
   "codemirror_mode": {
    "name": "ipython",
    "version": 2
   },
   "file_extension": ".py",
   "mimetype": "text/x-python",
   "name": "python",
   "nbconvert_exporter": "python",
   "pygments_lexer": "ipython2",
   "version": "2.7.11"
  }
 },
 "nbformat": 4,
 "nbformat_minor": 0
}
