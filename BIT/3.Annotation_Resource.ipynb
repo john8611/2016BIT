{
 "cells": [
  {
   "cell_type": "markdown",
   "metadata": {},
   "source": [
    "# Annotation Resources\n",
    "\n",
    "***Bioconductor annotation resources*** have traditionally been used near the end of an analysis. After the bulk of the data analysis, annotations would be used interpretatively to learn about the most significant results. \n",
    "\n",
    "But increasingly, they are also used as a starting point or even as an intermediate step to help guide a study that is still in progress. In addition to this, what it means for something to be an annotation is also becoming less clear than it once was. It used to be clear that annotations were only those things that had been established after multiple different studies had been performed (such as the primary role of a gene product). \n",
    "\n",
    "But today many large data sets are treated by communities in much the same way that classic annotations once were: as a reference for additional comparisons.\n",
    "\n",
    "Another change that is underway with annotations in Bioconductor is in the way that they are obtained. In the past annotations existed almost exclusively as separate annotation packages[2,3,4]. Today packages are still an enormous source of annotations. The current release repository contains over eight hundred annotation packages. This table summarizes some of the more important classes of annotation objects that are often accessed using packages:\n",
    "\n",
    "  Object Type  | Example Package Name | Contents \n",
    "  ------------- | ------------- | -------------\n",
    "  TxDb  | TxDb.Hsapiens.UCSC.hg19.knownGene |  Transcriptome ranges for the known gene track of Homo sapiens, e.g., introns, exons, UTR regions.\n",
    "  OrgDb | org.Hs.eg.db | Gene-based information for Homo sapiens; useful for mapping between gene IDs, Names, Symbols, GO and KEGG identifiers, etc.\n",
    "  BSgenome | BSgenome.Hsapiens.UCSC.hg19 | Full genome sequence for Homo sapiens.\n",
    "  OrganismDb | Homo,sapiens | Collection of multiple annotations for a common organism and genome build. \n",
    "  AnnotationHub | AnnotationHub | Provides a convenient interface to annotations from many different sources; objects are returned as fully parsed Bioconductor data objects or as the name of a file on disk.\n",
    "  \n",
    " \n",
    "But in spite of the popularity of annotation packages, annotations are increasingly also being pulled down from web services like ***biomaRt***[5,6,7] or from the ***AnnotationHub***[8]. And both of these represent enormous resources for annotation data."
   ]
  },
  {
   "cell_type": "markdown",
   "metadata": {},
   "source": [
    "## Set Up"
   ]
  },
  {
   "cell_type": "code",
   "execution_count": 16,
   "metadata": {
    "collapsed": false
   },
   "outputs": [
    {
     "name": "stderr",
     "output_type": "stream",
     "text": [
      "Bioconductor version 3.1 (BiocInstaller 1.18.5), ?biocLite for help\n",
      "A newer version of Bioconductor is available for this version of R,\n",
      "  ?BiocUpgrade for help\n",
      "BioC_mirror: http://bioconductor.org\n",
      "Using Bioconductor version 3.1 (BiocInstaller 1.18.5), R version 3.2.2.\n",
      "Installing package(s) ‘AnnotationHub’, ‘Homo.sapiens’,\n",
      "  ‘TxDb.Hsapiens.UCSC.hg19.knownGene’, ‘BSgenome.Hsapiens.UCSC.hg19’,\n",
      "  ‘biomaRt’, ‘TxDb.Athaliana.BioMart.plantsmart22’\n"
     ]
    },
    {
     "name": "stdout",
     "output_type": "stream",
     "text": [
      "\n",
      "The downloaded source packages are in\n",
      "\t‘/tmp/RtmpcUOOTq/downloaded_packages’\n"
     ]
    },
    {
     "name": "stderr",
     "output_type": "stream",
     "text": [
      "Old packages: 'BH', 'boot', 'car', 'caret', 'digest', 'evaluate', 'formatR',\n",
      "  'ggplot2', 'glmnet', 'gtable', 'htmltools', 'htmlwidgets', 'jsonlite',\n",
      "  'knitr', 'lme4', 'maps', 'Matrix', 'mgcv', 'munsell', 'nlme', 'nnet',\n",
      "  'quantreg', 'R6', 'rbokeh', 'Rcpp', 'RcppEigen', 'rmarkdown', 'scales',\n",
      "  'shiny', 'tidyr', 'TTR', 'xtable'\n"
     ]
    }
   ],
   "source": [
    "## try http:// if https:// URLs are not supported\n",
    "source(\"http://bioconductor.org/biocLite.R\")\n",
    "# anno_lib <- c(\"AnnotationHub\", \"Homo.sapiens\",\"TxDb.Hsapiens.UCSC.hg19.knownGene\", \"BSgenome.Hsapiens.UCSC.hg19\", \"biomaRt\",\"TxDb.Athaliana.BioMart.plantsmart22\") \n",
    "\n",
    "# biocLite(anno_lib) "
   ]
  },
  {
   "cell_type": "markdown",
   "metadata": {},
   "source": [
    "## Using AnnotationHub\n",
    "\n",
    "The top of the list for learning about annotation resources is the relatively new ***AnnotationHub*** package[8]. \n",
    "\n",
    "The AnnotationHub was created to provide a convenient access point for end users to find a large range of different annotation objects for use with Bioconductor. Resources found in the AnnotationHub are easy to discover and are presented to the user as familiar Bioconductor data objects. Because it is a recent addition, the AnnotationHub allows access to a broad range of annotation like objects, some of which may not have been considered annotations even a few years ago. To get started with the AnnotationHub users only need to load the package and then create a local AnnotationHub object like this:"
   ]
  },
  {
   "cell_type": "code",
   "execution_count": 17,
   "metadata": {
    "collapsed": true
   },
   "outputs": [
    {
     "name": "stderr",
     "output_type": "stream",
     "text": [
      "Warning message:\n",
      ": 'AnnotationHub' database may not be current\n",
      "  database: ‘/home/madbunny/.AnnotationHub/annotationhub.sqlite3’\n",
      "  reason: Problem with the SSL CA cert (path? access rights?)"
     ]
    }
   ],
   "source": [
    "library(\"AnnotationHub\") \n",
    "ah <- AnnotationHub() "
   ]
  },
  {
   "cell_type": "code",
   "execution_count": 18,
   "metadata": {
    "collapsed": false
   },
   "outputs": [
    {
     "data": {
      "text/plain": [
       "AnnotationHub with 35307 records\n",
       "# snapshotDate(): 2016-03-07 \n",
       "# $dataprovider: BroadInstitute, UCSC, Ensembl, NCBI, Haemcode, Inparanoid8,...\n",
       "# $species: Homo sapiens, Mus musculus, Bos taurus, Pan troglodytes, Danio r...\n",
       "# $rdataclass: GRanges, FaFile, BigWigFile, OrgDb, ChainFile, Inparanoid8Db,...\n",
       "# additional mcols(): taxonomyid, genome, description, tags, sourceurl,\n",
       "#   sourcetype \n",
       "# retrieve records with, e.g., 'object[[\"AH2\"]]' \n",
       "\n",
       "            title                                               \n",
       "  AH2     | Ailuropoda_melanoleuca.ailMel1.69.dna.toplevel.fa   \n",
       "  AH3     | Ailuropoda_melanoleuca.ailMel1.69.dna_rm.toplevel.fa\n",
       "  AH4     | Ailuropoda_melanoleuca.ailMel1.69.dna_sm.toplevel.fa\n",
       "  AH5     | Ailuropoda_melanoleuca.ailMel1.69.ncrna.fa          \n",
       "  AH6     | Ailuropoda_melanoleuca.ailMel1.69.pep.all.fa        \n",
       "  ...       ...                                                 \n",
       "  AH49436 | Xiphophorus_maculatus.Xipmac4.4.2.dna_rm.toplevel.fa\n",
       "  AH49437 | Xiphophorus_maculatus.Xipmac4.4.2.dna_sm.toplevel.fa\n",
       "  AH49438 | Xiphophorus_maculatus.Xipmac4.4.2.dna.toplevel.fa   \n",
       "  AH49439 | Xiphophorus_maculatus.Xipmac4.4.2.ncrna.fa          \n",
       "  AH49440 | Xiphophorus_maculatus.Xipmac4.4.2.pep.all.fa        "
      ]
     },
     "execution_count": 18,
     "metadata": {},
     "output_type": "execute_result"
    }
   ],
   "source": [
    "ah"
   ]
  },
  {
   "cell_type": "code",
   "execution_count": 19,
   "metadata": {
    "collapsed": false
   },
   "outputs": [
    {
     "data": {
      "text/html": [
       "<ol class=list-inline>\n",
       "\t<li>'Ensembl'</li>\n",
       "\t<li>'EncodeDCC'</li>\n",
       "\t<li>'UCSC'</li>\n",
       "\t<li>'Inparanoid8'</li>\n",
       "\t<li>'NCBI'</li>\n",
       "\t<li>'NHLBI'</li>\n",
       "\t<li>'ChEA'</li>\n",
       "\t<li>'Pazar'</li>\n",
       "\t<li>'NIH Pathway Interaction Database'</li>\n",
       "\t<li>'RefNet'</li>\n",
       "\t<li>'Haemcode'</li>\n",
       "\t<li>'GEO'</li>\n",
       "\t<li>'BroadInstitute'</li>\n",
       "</ol>\n"
      ],
      "text/latex": [
       "\\begin{enumerate*}\n",
       "\\item 'Ensembl'\n",
       "\\item 'EncodeDCC'\n",
       "\\item 'UCSC'\n",
       "\\item 'Inparanoid8'\n",
       "\\item 'NCBI'\n",
       "\\item 'NHLBI'\n",
       "\\item 'ChEA'\n",
       "\\item 'Pazar'\n",
       "\\item 'NIH Pathway Interaction Database'\n",
       "\\item 'RefNet'\n",
       "\\item 'Haemcode'\n",
       "\\item 'GEO'\n",
       "\\item 'BroadInstitute'\n",
       "\\end{enumerate*}\n"
      ],
      "text/markdown": [
       "1. 'Ensembl'\n",
       "2. 'EncodeDCC'\n",
       "3. 'UCSC'\n",
       "4. 'Inparanoid8'\n",
       "5. 'NCBI'\n",
       "6. 'NHLBI'\n",
       "7. 'ChEA'\n",
       "8. 'Pazar'\n",
       "9. 'NIH Pathway Interaction Database'\n",
       "10. 'RefNet'\n",
       "11. 'Haemcode'\n",
       "12. 'GEO'\n",
       "13. 'BroadInstitute'\n",
       "\n",
       "\n"
      ],
      "text/plain": [
       " [1] \"Ensembl\"                          \"EncodeDCC\"                       \n",
       " [3] \"UCSC\"                             \"Inparanoid8\"                     \n",
       " [5] \"NCBI\"                             \"NHLBI\"                           \n",
       " [7] \"ChEA\"                             \"Pazar\"                           \n",
       " [9] \"NIH Pathway Interaction Database\" \"RefNet\"                          \n",
       "[11] \"Haemcode\"                         \"GEO\"                             \n",
       "[13] \"BroadInstitute\"                  "
      ]
     },
     "execution_count": 19,
     "metadata": {},
     "output_type": "execute_result"
    },
    {
     "data": {
      "text/html": [
       "<ol class=list-inline>\n",
       "\t<li>'FaFile'</li>\n",
       "\t<li>'GRanges'</li>\n",
       "\t<li>'Inparanoid8Db'</li>\n",
       "\t<li>'OrgDb'</li>\n",
       "\t<li>'TwoBitFile'</li>\n",
       "\t<li>'ChainFile'</li>\n",
       "\t<li>'SQLiteConnection'</li>\n",
       "\t<li>'data.frame'</li>\n",
       "\t<li>'biopax'</li>\n",
       "\t<li>'BigWigFile'</li>\n",
       "\t<li>'ExpressionSet'</li>\n",
       "</ol>\n"
      ],
      "text/latex": [
       "\\begin{enumerate*}\n",
       "\\item 'FaFile'\n",
       "\\item 'GRanges'\n",
       "\\item 'Inparanoid8Db'\n",
       "\\item 'OrgDb'\n",
       "\\item 'TwoBitFile'\n",
       "\\item 'ChainFile'\n",
       "\\item 'SQLiteConnection'\n",
       "\\item 'data.frame'\n",
       "\\item 'biopax'\n",
       "\\item 'BigWigFile'\n",
       "\\item 'ExpressionSet'\n",
       "\\end{enumerate*}\n"
      ],
      "text/markdown": [
       "1. 'FaFile'\n",
       "2. 'GRanges'\n",
       "3. 'Inparanoid8Db'\n",
       "4. 'OrgDb'\n",
       "5. 'TwoBitFile'\n",
       "6. 'ChainFile'\n",
       "7. 'SQLiteConnection'\n",
       "8. 'data.frame'\n",
       "9. 'biopax'\n",
       "10. 'BigWigFile'\n",
       "11. 'ExpressionSet'\n",
       "\n",
       "\n"
      ],
      "text/plain": [
       " [1] \"FaFile\"           \"GRanges\"          \"Inparanoid8Db\"    \"OrgDb\"           \n",
       " [5] \"TwoBitFile\"       \"ChainFile\"        \"SQLiteConnection\" \"data.frame\"      \n",
       " [9] \"biopax\"           \"BigWigFile\"       \"ExpressionSet\"   "
      ]
     },
     "execution_count": 19,
     "metadata": {},
     "output_type": "execute_result"
    }
   ],
   "source": [
    "unique(ah$dataprovider) \n",
    "unique(ah$rdataclass)"
   ]
  },
  {
   "cell_type": "markdown",
   "metadata": {},
   "source": [
    "Once you have identified which sorts of metadata you would like to use to find your data of interest, you can then use the subset or query methods to reduce the size of the hub object to something more manageable. For example you could select only those records where the string ‘GRanges’ was in the metadata. As you can see GRanges are one of the more popular formats for data that comes from the AnnotationHub."
   ]
  },
  {
   "cell_type": "code",
   "execution_count": 20,
   "metadata": {
    "collapsed": false
   },
   "outputs": [
    {
     "data": {
      "text/plain": [
       "AnnotationHub with 17365 records\n",
       "# snapshotDate(): 2016-03-07 \n",
       "# $dataprovider: BroadInstitute, UCSC, Ensembl, Haemcode, Pazar, EncodeDCC\n",
       "# $species: Homo sapiens, Mus musculus, Bos taurus, Pan troglodytes, Canis f...\n",
       "# $rdataclass: GRanges\n",
       "# additional mcols(): taxonomyid, genome, description, tags, sourceurl,\n",
       "#   sourcetype \n",
       "# retrieve records with, e.g., 'object[[\"AH3166\"]]' \n",
       "\n",
       "            title                                   \n",
       "  AH3166  | wgEncodeRikenCageSknshraCellPapTssHmm   \n",
       "  AH3912  | wgEncodeUwDgfTregwb78495824Hotspots     \n",
       "  AH3913  | wgEncodeUwDgfTregwb78495824Pk           \n",
       "  AH4368  | wgEncodeUwDnaseWi38PkRep1               \n",
       "  AH4369  | wgEncodeUwDnaseWi38PkRep2               \n",
       "  ...       ...                                     \n",
       "  AH48001 | Tupaia_belangeri.TREESHREW.81.gtf       \n",
       "  AH48002 | Tursiops_truncatus.turTru1.81.gtf       \n",
       "  AH48003 | Vicugna_pacos.vicPac1.81.gtf            \n",
       "  AH48004 | Xenopus_tropicalis.JGI_4.2.81.gtf       \n",
       "  AH48005 | Xiphophorus_maculatus.Xipmac4.4.2.81.gtf"
      ]
     },
     "execution_count": 20,
     "metadata": {},
     "output_type": "execute_result"
    },
    {
     "data": {
      "text/plain": [
       "AnnotationHub with 17365 records\n",
       "# snapshotDate(): 2016-03-07 \n",
       "# $dataprovider: BroadInstitute, UCSC, Ensembl, Haemcode, Pazar, EncodeDCC\n",
       "# $species: Homo sapiens, Mus musculus, Bos taurus, Pan troglodytes, Canis f...\n",
       "# $rdataclass: GRanges\n",
       "# additional mcols(): taxonomyid, genome, description, tags, sourceurl,\n",
       "#   sourcetype \n",
       "# retrieve records with, e.g., 'object[[\"AH3166\"]]' \n",
       "\n",
       "            title                                   \n",
       "  AH3166  | wgEncodeRikenCageSknshraCellPapTssHmm   \n",
       "  AH3912  | wgEncodeUwDgfTregwb78495824Hotspots     \n",
       "  AH3913  | wgEncodeUwDgfTregwb78495824Pk           \n",
       "  AH4368  | wgEncodeUwDnaseWi38PkRep1               \n",
       "  AH4369  | wgEncodeUwDnaseWi38PkRep2               \n",
       "  ...       ...                                     \n",
       "  AH48001 | Tupaia_belangeri.TREESHREW.81.gtf       \n",
       "  AH48002 | Tursiops_truncatus.turTru1.81.gtf       \n",
       "  AH48003 | Vicugna_pacos.vicPac1.81.gtf            \n",
       "  AH48004 | Xenopus_tropicalis.JGI_4.2.81.gtf       \n",
       "  AH48005 | Xiphophorus_maculatus.Xipmac4.4.2.81.gtf"
      ]
     },
     "execution_count": 20,
     "metadata": {},
     "output_type": "execute_result"
    }
   ],
   "source": [
    "grs <- query(ah, \"GRanges\") \n",
    "grs \n",
    "grs <- ah[ah$rdataclass == \"GRanges\",] \n",
    "grs"
   ]
  },
  {
   "cell_type": "markdown",
   "metadata": {},
   "source": [
    "The subset function is also provided."
   ]
  },
  {
   "cell_type": "code",
   "execution_count": 21,
   "metadata": {
    "collapsed": false
   },
   "outputs": [
    {
     "data": {
      "text/plain": [
       "AnnotationHub with 1145 records\n",
       "# snapshotDate(): 2016-03-07 \n",
       "# $dataprovider: NCBI\n",
       "# $species: 'Nostoc azollae'_0708, Acaryochloris marina_MBIC11017, Acetobact...\n",
       "# $rdataclass: OrgDb\n",
       "# additional mcols(): taxonomyid, genome, description, tags, sourceurl,\n",
       "#   sourcetype \n",
       "# retrieve records with, e.g., 'object[[\"AH12818\"]]' \n",
       "\n",
       "            title                                                    \n",
       "  AH12818 | org.Pseudomonas_mendocina_NK-01.eg.sqlite                \n",
       "  AH12819 | org.Streptomyces_coelicolor_A3(2).eg.sqlite              \n",
       "  AH12820 | org.Cricetulus_griseus.eg.sqlite                         \n",
       "  AH12821 | org.Streptomyces_cattleya_NRRL_8057_=_DSM_46488.eg.sqlite\n",
       "  AH12822 | org.Cavia_porcellus.eg.sqlite                            \n",
       "  ...       ...                                                      \n",
       "  AH13958 | org.Ochotona_princeps.eg.sqlite                          \n",
       "  AH13959 | org.Aeromonas_veronii_B565.eg.sqlite                     \n",
       "  AH13960 | org.Oryctolagus_cuniculus.eg.sqlite                      \n",
       "  AH13961 | org.Tetraodon_nigroviridis.eg.sqlite                     \n",
       "  AH13962 | org.Burkholderia_gladioli_BSR3.eg.sqlite                 "
      ]
     },
     "execution_count": 21,
     "metadata": {},
     "output_type": "execute_result"
    }
   ],
   "source": [
    "orgs <- subset(ah, ah$rdataclass == \"OrgDb\") \n",
    "orgs"
   ]
  },
  {
   "cell_type": "code",
   "execution_count": 22,
   "metadata": {
    "collapsed": false
   },
   "outputs": [
    {
     "data": {
      "text/plain": [
       "DataFrame with 35307 rows and 10 columns\n",
       "                                                       title dataprovider\n",
       "                                                 <character>  <character>\n",
       "AH2        Ailuropoda_melanoleuca.ailMel1.69.dna.toplevel.fa      Ensembl\n",
       "AH3     Ailuropoda_melanoleuca.ailMel1.69.dna_rm.toplevel.fa      Ensembl\n",
       "AH4     Ailuropoda_melanoleuca.ailMel1.69.dna_sm.toplevel.fa      Ensembl\n",
       "AH5               Ailuropoda_melanoleuca.ailMel1.69.ncrna.fa      Ensembl\n",
       "AH6             Ailuropoda_melanoleuca.ailMel1.69.pep.all.fa      Ensembl\n",
       "...                                                      ...          ...\n",
       "AH49436 Xiphophorus_maculatus.Xipmac4.4.2.dna_rm.toplevel.fa      Ensembl\n",
       "AH49437 Xiphophorus_maculatus.Xipmac4.4.2.dna_sm.toplevel.fa      Ensembl\n",
       "AH49438    Xiphophorus_maculatus.Xipmac4.4.2.dna.toplevel.fa      Ensembl\n",
       "AH49439           Xiphophorus_maculatus.Xipmac4.4.2.ncrna.fa      Ensembl\n",
       "AH49440         Xiphophorus_maculatus.Xipmac4.4.2.pep.all.fa      Ensembl\n",
       "                       species taxonomyid      genome\n",
       "                   <character>  <integer> <character>\n",
       "AH2     Ailuropoda melanoleuca       9646     ailMel1\n",
       "AH3     Ailuropoda melanoleuca       9646     ailMel1\n",
       "AH4     Ailuropoda melanoleuca       9646     ailMel1\n",
       "AH5     Ailuropoda melanoleuca       9646     ailMel1\n",
       "AH6     Ailuropoda melanoleuca       9646     ailMel1\n",
       "...                        ...        ...         ...\n",
       "AH49436  Xiphophorus maculatus       8083     Xipmac4\n",
       "AH49437  Xiphophorus maculatus       8083     Xipmac4\n",
       "AH49438  Xiphophorus maculatus       8083     Xipmac4\n",
       "AH49439  Xiphophorus maculatus       8083     Xipmac4\n",
       "AH49440  Xiphophorus maculatus       8083     Xipmac4\n",
       "                                            description\n",
       "                                            <character>\n",
       "AH2       FASTA DNA sequence for Ailuropoda melanoleuca\n",
       "AH3       FASTA DNA sequence for Ailuropoda melanoleuca\n",
       "AH4       FASTA DNA sequence for Ailuropoda melanoleuca\n",
       "AH5     FASTA ncRNA sequence for Ailuropoda melanoleuca\n",
       "AH6       FASTA pep sequence for Ailuropoda melanoleuca\n",
       "...                                                 ...\n",
       "AH49436    FASTA DNA sequence for Xiphophorus maculatus\n",
       "AH49437    FASTA DNA sequence for Xiphophorus maculatus\n",
       "AH49438    FASTA DNA sequence for Xiphophorus maculatus\n",
       "AH49439  FASTA ncRNA sequence for Xiphophorus maculatus\n",
       "AH49440    FASTA pep sequence for Xiphophorus maculatus\n",
       "                            tags  rdataclass\n",
       "                     <character> <character>\n",
       "AH2     FASTA, ensembl, sequence      FaFile\n",
       "AH3     FASTA, ensembl, sequence      FaFile\n",
       "AH4     FASTA, ensembl, sequence      FaFile\n",
       "AH5     FASTA, ensembl, sequence      FaFile\n",
       "AH6     FASTA, ensembl, sequence      FaFile\n",
       "...                          ...         ...\n",
       "AH49436 FASTA, ensembl, sequence      FaFile\n",
       "AH49437 FASTA, ensembl, sequence      FaFile\n",
       "AH49438 FASTA, ensembl, sequence      FaFile\n",
       "AH49439 FASTA, ensembl, sequence      FaFile\n",
       "AH49440 FASTA, ensembl, sequence      FaFile\n",
       "                                                                                                                            sourceurl\n",
       "                                                                                                                          <character>\n",
       "AH2        ftp://ftp.ensembl.org/pub/release-69/fasta/ailuropoda_melanoleuca/dna/Ailuropoda_melanoleuca.ailMel1.69.dna.toplevel.fa.gz\n",
       "AH3     ftp://ftp.ensembl.org/pub/release-69/fasta/ailuropoda_melanoleuca/dna/Ailuropoda_melanoleuca.ailMel1.69.dna_rm.toplevel.fa.gz\n",
       "AH4     ftp://ftp.ensembl.org/pub/release-69/fasta/ailuropoda_melanoleuca/dna/Ailuropoda_melanoleuca.ailMel1.69.dna_sm.toplevel.fa.gz\n",
       "AH5             ftp://ftp.ensembl.org/pub/release-69/fasta/ailuropoda_melanoleuca/ncrna/Ailuropoda_melanoleuca.ailMel1.69.ncrna.fa.gz\n",
       "AH6             ftp://ftp.ensembl.org/pub/release-69/fasta/ailuropoda_melanoleuca/pep/Ailuropoda_melanoleuca.ailMel1.69.pep.all.fa.gz\n",
       "...                                                                                                                               ...\n",
       "AH49436  ftp://ftp.ensembl.org/pub/release-81/fasta/xiphophorus_maculatus/dna/Xiphophorus_maculatus.Xipmac4.4.2.dna_rm.toplevel.fa.gz\n",
       "AH49437  ftp://ftp.ensembl.org/pub/release-81/fasta/xiphophorus_maculatus/dna/Xiphophorus_maculatus.Xipmac4.4.2.dna_sm.toplevel.fa.gz\n",
       "AH49438     ftp://ftp.ensembl.org/pub/release-81/fasta/xiphophorus_maculatus/dna/Xiphophorus_maculatus.Xipmac4.4.2.dna.toplevel.fa.gz\n",
       "AH49439          ftp://ftp.ensembl.org/pub/release-81/fasta/xiphophorus_maculatus/ncrna/Xiphophorus_maculatus.Xipmac4.4.2.ncrna.fa.gz\n",
       "AH49440          ftp://ftp.ensembl.org/pub/release-81/fasta/xiphophorus_maculatus/pep/Xiphophorus_maculatus.Xipmac4.4.2.pep.all.fa.gz\n",
       "         sourcetype\n",
       "        <character>\n",
       "AH2           FASTA\n",
       "AH3           FASTA\n",
       "AH4           FASTA\n",
       "AH5           FASTA\n",
       "AH6           FASTA\n",
       "...             ...\n",
       "AH49436       FASTA\n",
       "AH49437       FASTA\n",
       "AH49438       FASTA\n",
       "AH49439       FASTA\n",
       "AH49440       FASTA"
      ]
     },
     "execution_count": 22,
     "metadata": {},
     "output_type": "execute_result"
    }
   ],
   "source": [
    "meta <- mcols(ah) \n",
    "meta"
   ]
  },
  {
   "cell_type": "markdown",
   "metadata": {},
   "source": [
    "Also if you are a fan of GUI’s ***you can use the display method to look at your data in a browser*** and return selected rows back as a smaller AnnotationHub object like this:"
   ]
  },
  {
   "cell_type": "code",
   "execution_count": 9,
   "metadata": {
    "collapsed": false
   },
   "outputs": [],
   "source": [
    "# sah <- display(ah) "
   ]
  },
  {
   "cell_type": "markdown",
   "metadata": {},
   "source": [
    "![result](http://bioconductor.org/help/workflows/annotation/Annotation_Resources/display.png)"
   ]
  },
  {
   "cell_type": "markdown",
   "metadata": {
    "collapsed": true
   },
   "source": [
    "Once you have the AnnotationHub object pared down to a reasonable size, and are sure about which records you want to retrieve, then you only need to use the ‘[[’ operator to extract them. Using the ‘[[’ operator, you can extract by numeric index (1,2,3) or by AnnotationHub ID. If you choose to use the former, you simply extract the element that you are interested in. So for our chain example, you might just want to 1st one like this:"
   ]
  },
  {
   "cell_type": "code",
   "execution_count": 23,
   "metadata": {
    "collapsed": false
   },
   "outputs": [
    {
     "name": "stderr",
     "output_type": "stream",
     "text": [
      "retrieving 1 resources\n",
      "Warning message:\n",
      ": download failed\n",
      "  hub path: ‘https://annotationhub.bioconductor.org/fetch/3166’\n",
      "  cache path: ‘/home/madbunny/.AnnotationHub/3166’\n",
      "  reason: Problem with the SSL CA cert (path? access rights?)"
     ]
    },
    {
     "ename": "ERROR",
     "evalue": "Error in value[[3L]](cond): failed to load hub resource ‘wgEncodeRikenCageSknshraCellPapTssHmm’ of\n    class GRanges; reason: 1 resources failed to download\n",
     "output_type": "error",
     "traceback": [
      "Error in value[[3L]](cond): failed to load hub resource ‘wgEncodeRikenCageSknshraCellPapTssHmm’ of\n    class GRanges; reason: 1 resources failed to download\n"
     ]
    },
    {
     "ename": "ERROR",
     "evalue": "Error in head(res, n = 3): error in evaluating the argument 'x' in selecting a method for function 'head': Error: object 'res' not found\n\n",
     "output_type": "error",
     "traceback": [
      "Error in head(res, n = 3): error in evaluating the argument 'x' in selecting a method for function 'head': Error: object 'res' not found\n\n"
     ]
    }
   ],
   "source": [
    "library(GenomicRanges)\n",
    "\n",
    "\n",
    "res <- grs[[1]] \n",
    "## require(\"GenomicRanges\")\n",
    "\n",
    "head(res, n=3) "
   ]
  },
  {
   "cell_type": "markdown",
   "metadata": {},
   "source": [
    "Or you might have decided that you want to see the data for the green spotted pufferfish by that you spotted in the orgs subset under the name ‘AH13961’. That data could also be extracted like this:"
   ]
  },
  {
   "cell_type": "code",
   "execution_count": 29,
   "metadata": {
    "collapsed": false
   },
   "outputs": [
    {
     "data": {
      "text/html": [
       "TRUE"
      ],
      "text/latex": [
       "TRUE"
      ],
      "text/markdown": [
       "TRUE"
      ],
      "text/plain": [
       "[1] TRUE"
      ]
     },
     "execution_count": 29,
     "metadata": {},
     "output_type": "execute_result"
    },
    {
     "name": "stderr",
     "output_type": "stream",
     "text": [
      "retrieving 1 resources\n",
      "Warning message:\n",
      ": download failed\n",
      "  hub path: ‘https://annotationhub.bioconductor.org/fetch/13960’\n",
      "  cache path: ‘/home/madbunny/.AnnotationHub/13960’\n",
      "  reason: Problem with the SSL CA cert (path? access rights?)"
     ]
    },
    {
     "ename": "ERROR",
     "evalue": "Error in value[[3L]](cond): failed to load hub resource ‘org.Oryctolagus_cuniculus.eg.sqlite’ of\n    class SQLiteFile; reason: 1 resources failed to download\n",
     "output_type": "error",
     "traceback": [
      "Error in value[[3L]](cond): failed to load hub resource ‘org.Oryctolagus_cuniculus.eg.sqlite’ of\n    class SQLiteFile; reason: 1 resources failed to download\n"
     ]
    }
   ],
   "source": [
    "httr::handle_reset(paste0(hubUrl(), \"/\")); file.remove(dbfile(orgs))\n",
    "rabbit <- query(orgs, \"Oryctolagus\")[[1]] "
   ]
  },
  {
   "cell_type": "markdown",
   "metadata": {},
   "source": [
    "## OrgDb objects\n",
    "\n",
    "At this point you might be wondering: What is this OrgDb object about? ***OrgDb objects are one member of a family of annotation objects that all represent hidden data through a shared set of methods.*** So if you look closely at the rabbit object in the example above you can see that it contains data for the European rabbit Oryctolagus cuniculus (taxonomy ID = 9986). You can learn a little more about it by learning about the columns method."
   ]
  },
  {
   "cell_type": "code",
   "execution_count": 25,
   "metadata": {
    "collapsed": false
   },
   "outputs": [
    {
     "ename": "ERROR",
     "evalue": "Error in eval(expr, envir, enclos): could not find function \"columns\"\n",
     "output_type": "error",
     "traceback": [
      "Error in eval(expr, envir, enclos): could not find function \"columns\"\n"
     ]
    }
   ],
   "source": [
    "columns(rabbit) "
   ]
  },
  {
   "cell_type": "markdown",
   "metadata": {},
   "source": [
    "The ***columns method gives you a vector of data types that can be retrieved from the object that you call it on.*** So the above call indicates that there are several different data types that can be retrieved from the tetra object.\n",
    "\n",
    "\n",
    "A very similar method is the ***keytypes method, which will list all the data types that can also be used as keys.***"
   ]
  },
  {
   "cell_type": "code",
   "execution_count": null,
   "metadata": {
    "collapsed": true
   },
   "outputs": [],
   "source": [
    "keytypes(rabbit) "
   ]
  },
  {
   "cell_type": "markdown",
   "metadata": {},
   "source": [
    "In many cases most of the things that are listed as columns will also come back from a ***keytypes call***, but since these two things are not guaranteed to be identical, we maintain two separate methods.\n",
    "\n",
    "\n",
    "Now that you can see what kinds of things can be used as ***keys, you can call the keys method to extract out all the keys of a given key type.***"
   ]
  },
  {
   "cell_type": "code",
   "execution_count": 30,
   "metadata": {
    "collapsed": false
   },
   "outputs": [
    {
     "ename": "ERROR",
     "evalue": "Error in head(keys(rabbit, keytype = \"ENTREZID\")): error in evaluating the argument 'x' in selecting a method for function 'head': Error: could not find function \"keys\"\n\n",
     "output_type": "error",
     "traceback": [
      "Error in head(keys(rabbit, keytype = \"ENTREZID\")): error in evaluating the argument 'x' in selecting a method for function 'head': Error: could not find function \"keys\"\n\n"
     ]
    }
   ],
   "source": [
    "head(keys(rabbit, keytype=\"ENTREZID\")) "
   ]
  },
  {
   "cell_type": "markdown",
   "metadata": {},
   "source": [
    "This is useful if you need to get all the IDs of a particular kind but the keys method has a few extra arguments that can make it even more flexible. \n",
    "\n",
    "For example, using the ***keys method*** you could also extract the gene SYMBOLS that contain “COX” like this:\n",
    "\n",
    "Or if you really needed an other keytype, you can use the column argument to extract the ENTREZ GENE IDs for those gene SYMBOLS that contain the string “COX”:"
   ]
  },
  {
   "cell_type": "code",
   "execution_count": null,
   "metadata": {
    "collapsed": true
   },
   "outputs": [],
   "source": [
    "keys(rabbit, keytype=\"SYMBOL\", pattern=\"COX\")\n",
    "keys(rabbit, keytype=\"ENTREZID\", pattern=\"COX\", column=\"SYMBOL\")"
   ]
  },
  {
   "cell_type": "markdown",
   "metadata": {},
   "source": [
    "But often, you will really want to extract other data that matches a particular key or set of keys. \n",
    "\n",
    "For that there are two methods which you can use. ***The more powerful of these is probably select.***\n",
    "Here is how you would look up the gene SYMBOL, and REFSEQ id for the entrez gene IDs “808231” and “808233”."
   ]
  },
  {
   "cell_type": "code",
   "execution_count": null,
   "metadata": {
    "collapsed": true
   },
   "outputs": [],
   "source": [
    "select(rabbit, keys=c(\"808231\",\"808233\"), columns=c(\"SYMBOL\",\"REFSEQ\"), keytype=\"ENTREZID\")"
   ]
  },
  {
   "cell_type": "code",
   "execution_count": null,
   "metadata": {
    "collapsed": true
   },
   "outputs": [],
   "source": []
  },
  {
   "cell_type": "code",
   "execution_count": null,
   "metadata": {
    "collapsed": true
   },
   "outputs": [],
   "source": []
  },
  {
   "cell_type": "code",
   "execution_count": null,
   "metadata": {
    "collapsed": true
   },
   "outputs": [],
   "source": []
  },
  {
   "cell_type": "code",
   "execution_count": null,
   "metadata": {
    "collapsed": true
   },
   "outputs": [],
   "source": []
  },
  {
   "cell_type": "code",
   "execution_count": null,
   "metadata": {
    "collapsed": true
   },
   "outputs": [],
   "source": []
  },
  {
   "cell_type": "code",
   "execution_count": null,
   "metadata": {
    "collapsed": true
   },
   "outputs": [],
   "source": []
  },
  {
   "cell_type": "code",
   "execution_count": null,
   "metadata": {
    "collapsed": true
   },
   "outputs": [],
   "source": []
  },
  {
   "cell_type": "code",
   "execution_count": null,
   "metadata": {
    "collapsed": true
   },
   "outputs": [],
   "source": []
  },
  {
   "cell_type": "code",
   "execution_count": null,
   "metadata": {
    "collapsed": true
   },
   "outputs": [],
   "source": []
  }
 ],
 "metadata": {
  "kernelspec": {
   "display_name": "R",
   "language": "R",
   "name": "ir"
  },
  "language_info": {
   "codemirror_mode": "r",
   "file_extension": ".r",
   "mimetype": "text/x-r-source",
   "name": "R",
   "pygments_lexer": "r",
   "version": "3.2.2"
  }
 },
 "nbformat": 4,
 "nbformat_minor": 0
}
