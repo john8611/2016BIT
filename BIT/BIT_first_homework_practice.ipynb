{
 "cells": [
  {
   "cell_type": "markdown",
   "metadata": {},
   "source": [
    "# BIT homework\n",
    "\n",
    "\n",
    "## Jupyter and conda for R\n",
    "\n",
    "Jupyter, previously called IPython, is already widely adopted by data scientists, researchers, and analysts. Jupyter’s notebook user interface enables mixing executable code with narrative text, equations, interactive visualizations, and images to enhance team collaboration and advance the state of reproducible research and training. Jupyter began with Python and now has kernels for 50 different languages, and the IRKernel is the native R kernel for Jupyter.\n",
    "\n",
    "Data scientists, researchers, and analysts use the conda package manager to install and organize project dependencies. With conda they can easily build and share metapackages, which are downloadable bundles of packages. Conda works with Linux, OS X, and Windows, and is language agnostic, so we can use it with any programming language and with projects that depend on multiple languages.\n",
    "\n",
    "Let’s use conda and Jupyter to start a data science project in R.\n",
    "\n",
    "## “R Essentials” setup\n",
    "\n",
    "The Anaconda team has created an “R Essentials” bundle with the IRKernel and over 80 of the most used R packages for data science, including dplyr, shiny, ggplot2, tidyr,caret and nnet.\n",
    "\n",
    "Downloading “R Essentials” requires conda. Miniconda includes conda, Python, and a few other necessary packages, while Anaconda includes all this and over 200 of the most popularPython packages for science, math, engineering, and data analysis. Users may install all of Anaconda at once, or they may install Miniconda at first and then use conda to install any other packages they need, including any of the packages in Anaconda.\n",
    "\n",
    "Once you have conda, you may install “R Essentials” into the current environment:\n",
    "\n",
    "\n",
    "\n",
    " > conda install -c r r-essentials\n",
    " \n",
    " \n",
    " ## Jupyter\n",
    "\n",
    "Jupyter provides a great notebook interface to write your analysis and share it with your peers. Open a shell and run this command to start the Jupyter notebook interface in your browser:\n",
    "\n",
    "> jupyter notebook\n",
    "\n",
    "Start a new R notebook:\n",
    "\n",
    "![Turing's Device](https://www.continuum.io/sites/default/files/conda-jupyter-irkernel-create-r-notebook.png)\n"
   ]
  },
  {
   "cell_type": "markdown",
   "metadata": {},
   "source": [
    "\n",
    "# R Quiz\n",
    "\n",
    "- Visit “www.ensembl.org”; download the human GTF file of the latest release \n",
    "    - a .Downloading program: wget or curl\n",
    "    - b. Target file: Homo_sapiens.GRCh38.83.chr_patch_hapl_scaff.gtf.gz\n",
    "    - c. Uncompress: gunzip\n",
    "\n",
    "- Read in the GTF file into an R session\n",
    "    - read.table arguments\n",
    "    - file\n",
    "    - sep\n",
    "    - comment\n",
    "    - quote\n",
    "- Tabulate the number of genes per chromosome\n",
    "    - table for a two-way counting (chromosome by feature)\n",
    "- Assess the average number of transcripts per gene\n",
    "- Restrict these countings to ‘protein-coding’ genes\n",
    "    - grep for record searching\n",
    "    \n",
    "    \n",
    "### GFF/GTF File Format - Definition and supported options \n",
    "The GFF (General Feature Format) format consists of one line per feature, each containing 9 columns of data, plus optional track definition lines. The following documentation is based on theVersion 2 specifications.\n",
    "\n",
    "The GTF (General Transfer Format) is identical to GFF version 2.\n",
    "- Fields\n",
    "- Track lines\n",
    "- More information -- (http://asia.ensembl.org/info/website/upload/gff.html?redirect=no#moreinfo)\n",
    "\n",
    "\n",
    "#### Fields\n",
    "\n",
    "**Fields must be tab-separated. Also, all but the final field in each feature line must contain a value; \"empty\" columns should be denoted with a '.'**\n",
    "\n",
    "- **seqname** - name of the chromosome or scaffold; chromosome names can be given with or without the 'chr' prefix. Important note: the seqname must be one used within Ensembl, i.e. a standard chromosome name or an Ensembl identifier such as a scaffold ID, without any additional content such as species or assembly. See the example GFF output below.\n",
    "- **source** - name of the program that generated this feature, or the data source (database or project name)\n",
    "- **feature** - feature type name, e.g. Gene, Variation, Similarity\n",
    "- **start** - Start position of the feature, with sequence numbering starting at 1.\n",
    "- **end** - End position of the feature, with sequence numbering starting at 1.\n",
    "- **score** - A floating point value.\n",
    "- **strand** - defined as + (forward) or - (reverse).\n",
    "- **frame** - One of '0', '1' or '2'. '0' indicates that the first base of the feature is the first base of a codon, '1' that the second base is the first base of a codon, and so on..\n",
    "- **attribute** - A semicolon-separated list of tag-value pairs, providing additional information about each feature.\n"
   ]
  },
  {
   "cell_type": "markdown",
   "metadata": {},
   "source": [
    "### Read in the GTF file into an R session\n",
    "    - read.table arguments\n",
    "    - file\n",
    "    - sep\n",
    "    - comment\n",
    "    - quote"
   ]
  },
  {
   "cell_type": "code",
   "execution_count": 2,
   "metadata": {
    "collapsed": false
   },
   "outputs": [],
   "source": [
    "test_gtf <- read.table(\"test.gtf\" , sep = \"\\t\" , comment.char = \"#\" , quote = \"\\\"\")\n",
    "# // quote = \"\\\"\" for preserving quote.\n",
    "# // trouncate comment charcter \"#\"  : comment.char = \"#\"\n",
    "# dim(test_gtf)\n",
    "\n",
    "# gtf table\n",
    "gtf_col <-  c(\"chr\",\"source\",\"feature\",\"start\",\"end\",\"score\",\"strand\",\"frame\",\"quote\")\n",
    "colnames(test_gtf) <- gtf_col"
   ]
  },
  {
   "cell_type": "code",
   "execution_count": 3,
   "metadata": {
    "collapsed": false
   },
   "outputs": [],
   "source": [
    "# test :  way 1\n",
    "\n",
    "# t <- subset(test_gtf$chr,test_gtf$feature == \"exon\")\n",
    "# table(t)"
   ]
  },
  {
   "cell_type": "markdown",
   "metadata": {},
   "source": [
    "### Tabulate the number of genes per chromosome\n",
    "    - table for a two-way counting (chromosome by feature)"
   ]
  },
  {
   "cell_type": "code",
   "execution_count": 4,
   "metadata": {
    "collapsed": false
   },
   "outputs": [
    {
     "name": "stderr",
     "output_type": "stream",
     "text": [
      "\n",
      "Attaching package: ‘data.table’\n",
      "\n",
      "The following object is masked _by_ ‘.GlobalEnv’:\n",
      "\n",
      "    .N\n",
      "\n"
     ]
    },
    {
     "data": {
      "text/html": [
       "<table>\n",
       "<thead><tr><th></th><th scope=col>chr</th><th scope=col>V1</th></tr></thead>\n",
       "<tbody>\n",
       "\t<tr><th scope=row>1</th><td>1</td><td>1</td></tr>\n",
       "</tbody>\n",
       "</table>\n"
      ],
      "text/latex": [
       "\\begin{tabular}{r|ll}\n",
       "  & chr & V1\\\\\n",
       "\\hline\n",
       "\t1 & 1 & 1\\\\\n",
       "\\end{tabular}\n"
      ],
      "text/plain": [
       "   chr V1\n",
       "1:   1  1"
      ]
     },
     "execution_count": 4,
     "metadata": {},
     "output_type": "execute_result"
    }
   ],
   "source": [
    "library(\"data.table\")\n",
    "\n",
    "test <- as.data.table(test_gtf)\n",
    "test[feature == \"gene\",(COUNT = .N) ,by=chr]"
   ]
  },
  {
   "cell_type": "markdown",
   "metadata": {},
   "source": [
    "### Assess the average number of transcripts per gene"
   ]
  },
  {
   "cell_type": "code",
   "execution_count": 5,
   "metadata": {
    "collapsed": false
   },
   "outputs": [
    {
     "data": {
      "text/html": [
       "1"
      ],
      "text/latex": [
       "1"
      ],
      "text/markdown": [
       "1"
      ],
      "text/plain": [
       "[1] 1"
      ]
     },
     "execution_count": 5,
     "metadata": {},
     "output_type": "execute_result"
    }
   ],
   "source": [
    "test.avg.trans_per_gene <- nrow(test[feature == \"transcript\"]) / nrow(test[feature == \"gene\"])\n",
    "test.avg.trans_per_gene"
   ]
  },
  {
   "cell_type": "markdown",
   "metadata": {
    "collapsed": false
   },
   "source": [
    "### Restrict these countings to ‘protein-coding’ genes\n",
    "    - grep for record searching"
   ]
  },
  {
   "cell_type": "code",
   "execution_count": 7,
   "metadata": {
    "collapsed": false
   },
   "outputs": [
    {
     "data": {
      "text/html": [
       "NaN"
      ],
      "text/latex": [
       "NaN"
      ],
      "text/markdown": [
       "NaN"
      ],
      "text/plain": [
       "[1] NaN"
      ]
     },
     "execution_count": 7,
     "metadata": {},
     "output_type": "execute_result"
    }
   ],
   "source": [
    "# grep for regural expression\n",
    "test.protein_coding <- test[grepl(\"protein_coding\",quote,perl=TRUE),]\n",
    "test.protein_coding.avg.trans_per_gene <- nrow(test.protein_coding[feature == \"transcript\"]) / nrow(test.protein_coding[feature == \"gene\"])\n",
    "test.protein_coding.avg.trans_per_gene "
   ]
  },
  {
   "cell_type": "code",
   "execution_count": null,
   "metadata": {
    "collapsed": true
   },
   "outputs": [],
   "source": []
  }
 ],
 "metadata": {
  "kernelspec": {
   "display_name": "R",
   "language": "R",
   "name": "ir"
  },
  "language_info": {
   "codemirror_mode": "r",
   "file_extension": ".r",
   "mimetype": "text/x-r-source",
   "name": "R",
   "pygments_lexer": "r",
   "version": "3.2.2"
  }
 },
 "nbformat": 4,
 "nbformat_minor": 0
}
